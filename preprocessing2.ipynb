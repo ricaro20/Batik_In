{
  "nbformat": 4,
  "nbformat_minor": 0,
  "metadata": {
    "colab": {
      "provenance": []
    },
    "kernelspec": {
      "name": "python3",
      "display_name": "Python 3"
    },
    "language_info": {
      "name": "python"
    }
  },
  "cells": [
    {
      "cell_type": "code",
      "execution_count": null,
      "metadata": {
        "id": "H8JGE54tmaVq"
      },
      "outputs": [],
      "source": [
        "#import library untuk extract zip file bernama archive.zip\n",
        "import os\n",
        "import zipfile\n",
        "\n",
        "zip_ref = zipfile.ZipFile(\"/content/dataFinalMentah.zip\", 'r')\n",
        "zip_ref.extractall(\"./motifBatik\")\n",
        "zip_ref.close()"
      ]
    },
    {
      "cell_type": "code",
      "source": [
        "motif_batik = os.listdir('/content/motifBatik/dataFinalMentah')\n",
        "print(len(motif_batik))\n",
        "print(motif_batik)"
      ],
      "metadata": {
        "colab": {
          "base_uri": "https://localhost:8080/"
        },
        "id": "Vg9vAPBKox-P",
        "outputId": "219b46db-fe56-4d72-cfc9-fe0286338bb2"
      },
      "execution_count": null,
      "outputs": [
        {
          "output_type": "stream",
          "name": "stdout",
          "text": [
            "15\n",
            "['Batik Bali', 'Batik Lasem', 'Batik Betawi', 'Batik Pala', 'Batik Dayak', 'Batik Poleng', 'Batik Ikat Celup', 'Batik Geblek Renteng', 'Batik Sekar Jagad', 'Batik Cendrawasih', 'Batik Megamendung', 'Batik Tambal', 'Batik Parang', 'Batik Insang', 'Batik Kawung']\n"
          ]
        }
      ]
    },
    {
      "cell_type": "code",
      "source": [
        "# Mendapatkan direktori kerja saat ini / cwd = current work directory\n",
        "cwd = os.getcwd()\n",
        "print(cwd)\n",
        "\n",
        "# Memeriksa apakah direktori \"DATASET\" sudah ada\n",
        "if os.path.exists(\"data\"):\n",
        "    print(\"Direktori sudah dibuat sebelumnya!\")\n",
        "else:\n",
        "    # Membuat direktori untuk setiap motif batik dalam \"TRAIN\" dan \"TEST\"\n",
        "    for motif in motif_batik:\n",
        "        os.makedirs(os.path.join(cwd, \"data\", \"train\", motif))\n",
        "        os.makedirs(os.path.join(cwd, \"data\", \"test\", motif))\n"
      ],
      "metadata": {
        "colab": {
          "base_uri": "https://localhost:8080/"
        },
        "id": "HQzlWFnXpEZ8",
        "outputId": "162c27cd-d4e8-4de4-b352-0534f74570ba"
      },
      "execution_count": null,
      "outputs": [
        {
          "output_type": "stream",
          "name": "stdout",
          "text": [
            "/content\n"
          ]
        }
      ]
    },
    {
      "cell_type": "code",
      "source": [
        "import os\n",
        "\n",
        "data_folder = \"/content/motifBatik/dataFinalMentah\"\n",
        "image_extensions = [\".jpg\"]\n",
        "\n",
        "for root, dirs, files in os.walk(data_folder):\n",
        "    if root != data_folder:  # Memeriksa agar hanya folder anak yang diproses, bukan folder parent\n",
        "        folder_name = os.path.basename(root)\n",
        "        image_count = sum(1 for file in files if any(file.lower().endswith(ext) for ext in image_extensions))\n",
        "        print(f\"'{folder_name}' = {image_count} jpg\")\n"
      ],
      "metadata": {
        "colab": {
          "base_uri": "https://localhost:8080/"
        },
        "id": "6EfICHqjpKTF",
        "outputId": "45ebf205-6555-48ec-a5af-9e5032041516"
      },
      "execution_count": null,
      "outputs": [
        {
          "output_type": "stream",
          "name": "stdout",
          "text": [
            "'Batik Bali' = 90 jpg\n",
            "'Batik Lasem' = 90 jpg\n",
            "'Batik Betawi' = 90 jpg\n",
            "'Batik Pala' = 90 jpg\n",
            "'Batik Dayak' = 90 jpg\n",
            "'Batik Poleng' = 90 jpg\n",
            "'Batik Ikat Celup' = 90 jpg\n",
            "'Batik Geblek Renteng' = 90 jpg\n",
            "'Batik Sekar Jagad' = 90 jpg\n",
            "'Batik Cendrawasih' = 90 jpg\n",
            "'Batik Megamendung' = 90 jpg\n",
            "'Batik Tambal' = 90 jpg\n",
            "'Batik Parang' = 90 jpg\n",
            "'Batik Insang' = 90 jpg\n",
            "'Batik Kawung' = 90 jpg\n"
          ]
        }
      ]
    },
    {
      "cell_type": "code",
      "source": [
        "import os\n",
        "import random\n",
        "import cv2\n",
        "\n",
        "dataset_size = 90\n",
        "train_size = 72\n",
        "\n",
        "for motive in motif_batik:\n",
        "    print(motive)\n",
        "    filenames = os.listdir(os.path.join(\"/content/motifBatik/dataFinalMentah\", motive))\n",
        "    random.shuffle(filenames)\n",
        "    filenames = filenames[:min(len(filenames), dataset_size)]\n",
        "    \n",
        "    for idx, name in enumerate(filenames):\n",
        "        image_path = os.path.join(cwd, \"/content/motifBatik/dataFinalMentah\", motive, name)\n",
        "        image = cv2.imread(image_path)\n",
        "        \n",
        "        if image is not None and image.shape[0] > 0 and image.shape[1] > 0:\n",
        "            image = cv2.resize(image, (224, 224), interpolation=cv2.INTER_AREA)\n",
        "            output_folder = \"train\" if idx < train_size else \"test\"\n",
        "            cv2.imwrite(os.path.join(cwd, \"data\", output_folder, motive, str(idx) + \".jpg\"), image)\n",
        "        else:\n",
        "            print(f\"Failed to read or invalid image: {image_path}\")\n"
      ],
      "metadata": {
        "colab": {
          "base_uri": "https://localhost:8080/"
        },
        "id": "adCqn2DwpQ3d",
        "outputId": "c5205046-44c7-488d-d34a-88543a5a71b7"
      },
      "execution_count": null,
      "outputs": [
        {
          "output_type": "stream",
          "name": "stdout",
          "text": [
            "Batik Bali\n",
            "Batik Lasem\n",
            "Batik Betawi\n",
            "Batik Pala\n",
            "Batik Dayak\n",
            "Batik Poleng\n",
            "Batik Ikat Celup\n",
            "Batik Geblek Renteng\n",
            "Batik Sekar Jagad\n",
            "Batik Cendrawasih\n",
            "Batik Megamendung\n",
            "Batik Tambal\n",
            "Batik Parang\n",
            "Batik Insang\n",
            "Batik Kawung\n"
          ]
        }
      ]
    },
    {
      "cell_type": "code",
      "source": [
        "import zipfile\n",
        "\n",
        "def zip_folder(folder_path, zip_path):\n",
        "    with zipfile.ZipFile(zip_path, 'w', zipfile.ZIP_DEFLATED) as zipf:\n",
        "        for root, dirs, files in os.walk(folder_path):\n",
        "            for file in files:\n",
        "                file_path = os.path.join(root, file)\n",
        "                zipf.write(file_path, os.path.relpath(file_path, folder_path))\n",
        "\n",
        "folder_to_zip = \"data\"\n",
        "zip_file_path = \"data.zip\"\n",
        "\n",
        "zip_folder(folder_to_zip, zip_file_path)"
      ],
      "metadata": {
        "id": "lynwhFVSpoxv"
      },
      "execution_count": null,
      "outputs": []
    }
  ]
}